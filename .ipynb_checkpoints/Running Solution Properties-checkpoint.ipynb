{
 "cells": [
  {
   "cell_type": "markdown",
   "metadata": {},
   "source": [
    "# Solution Properties\n",
    "## Reference Data CRC Handbook of Chemistry and Physics\n",
    " 102nd Edition\n",
    " Edited By John Rumble\n",
    " Copyright Year 2021\n",
    " ISBN 9780367712600\n",
    " \n",
    "CONCENTRATIVE PROPERTIES OF AQUEOUS SOLUTIONS\n",
    "\n",
    "This table gives properties of aqueous solutions of 66 substan­ces as a function of concentration. All data refer to a temperature of 20 °C. The column definitions for the table are as follows.\n",
    "\n",
    "#### Column heading\tDefinition\n",
    "Mass %\tMass of solute divided by total mass of solution, expressed as percent\n",
    "\n",
    "m\tMolality, moles of solute per kg of water\n",
    "\n",
    "c\tMolarity, moles of solute per liter of solution\n",
    "\n",
    "ρ\tDensity of solution, in g cm-3\n",
    "\n",
    "n\tIndex of refraction, relative to air, at a wavelength of 589 nm (sodium D line); the index of pure water at 20 °C is 1.3330\n",
    "\n",
    "Δ\tFreezing point depression relative to pure water, in °C\n",
    "\n",
    "η\tAbsolute (dynamic) viscosity, in mPa s (equal to centipoise, cP); the viscosity of pure water at 20 °C is 1.002 mPa s\n",
    "\n",
    "Density data for aqueous solutions over a wider range of temperatures and pressures (and for additional compounds not in this table) may be found in Ref. 2.\n",
    "\n",
    "#### References\n",
    "Wolf, A. V., Aqueous Solutions and Body Fluids, Hoeber, 1966.\n",
    "\n",
    "Söhnel, O., and Novotny, P., Densities of Aqueous Solutions of Inorganic Substances, Elsevier, Amsterdam, 1985.\n",
    " \n",
    "### Fits are 3rd order polynomial fits to reference data\n",
    "Parameterisation are all done in terms of MFS, with 3rd order polynomial fits of reference data used to convert to other units. Note that at MFS = 1, molality and molarity values are not pysically meaningful. The fits should provide reliable means of conversion above the bulk solubility limit, but use discretion at high concentrations.\n",
    "\n",
    "Liquid compounds typically exhibit more complex trends and do not fit well. In this case more data is generally available and interpolation should be considered to extract values.\n"
   ]
  },
  {
   "cell_type": "code",
   "execution_count": 1,
   "metadata": {},
   "outputs": [
    {
     "data": {
      "application/vnd.jupyter.widget-view+json": {
       "model_id": "61a16bd39a984b77ba46b845588cdbb9",
       "version_major": 2,
       "version_minor": 0
      },
      "text/plain": [
       "HBox(children=(Dropdown(index=48, options=('Acetic acid', 'Acetone', 'Ammonia', 'Ammonium chloride', 'Ammonium…"
      ]
     },
     "metadata": {},
     "output_type": "display_data"
    },
    {
     "data": {
      "application/vnd.jupyter.widget-view+json": {
       "model_id": "98cb9aed24ff47099fb2dd8543c05ad0",
       "version_major": 2,
       "version_minor": 0
      },
      "text/plain": [
       "Output()"
      ]
     },
     "metadata": {},
     "output_type": "display_data"
    }
   ],
   "source": [
    "import sys\n",
    "sys.path.append('src')\n",
    "import SolutionProperties\n",
    "SolutionProperties.GUI()"
   ]
  },
  {
   "cell_type": "code",
   "execution_count": null,
   "metadata": {},
   "outputs": [],
   "source": []
  }
 ],
 "metadata": {
  "kernelspec": {
   "display_name": "Python 3",
   "language": "python",
   "name": "python3"
  },
  "language_info": {
   "codemirror_mode": {
    "name": "ipython",
    "version": 3
   },
   "file_extension": ".py",
   "mimetype": "text/x-python",
   "name": "python",
   "nbconvert_exporter": "python",
   "pygments_lexer": "ipython3",
   "version": "3.8.5"
  }
 },
 "nbformat": 4,
 "nbformat_minor": 4
}
